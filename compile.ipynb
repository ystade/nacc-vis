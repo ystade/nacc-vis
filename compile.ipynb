{
 "cells": [
  {
   "cell_type": "markdown",
   "metadata": {},
   "source": [
    "# Neutral Atom Mapper Visualizer\n",
    "\n",
    "## Generation of CSV File\n",
    "\n",
    "First, a CSV file is generated that defines the location of every atom at each time step. Additionally, different colors and sizes of atoms can be used to depict the application of various quantum operations.\n",
    "\n",
    "### Input\n",
    "Takes a description of a circuit compiled for the neutral atoms platform. The input must follow the following format:\n",
    "- Line comments start with `#`, those lines are ignored during parsing.\n",
    "- allowed keywords are `init`, `move`, `rx`, `ry`, `cz`, `czz`\n",
    "    - theres is one keyword per line and the line starts with the keyword\n",
    "    - `init` must not follow after any other keyword\n",
    "    - the keywords `ry` and `ry` receive a parameter, e.g. `ry(pi/2)`\n",
    "    - every keyword is followed by a sequence of natural numbers defining the coordinates of atoms, e.g. `init 6 24 12 24` means that one atom is placed at $(6,24)$ and one at $(12,24)$. Here, the unit µm is assumed. For a move the syntax is $\\mathtt{move\\ (x_{old}\\ y_{old}\\ x_{new}\\ y_{new})^+}$.\n",
    "\n",
    "### Output\n",
    "A CSV file containing the postion of every atom at each point in time. The file has the following format\n",
    "\n",
    "time_frame | atom | xpos | ypos | gate | size\n",
    "---|---|---|---|---|---\n",
    "0 | 0 | 6 | 24 | 1 | 1\n",
    "0 | 1 | 12 | 24 | 1 | 1\n",
    "0 | 2 | 18 | 24 | 1 | 1\n",
    "1 | 0 | 6 | 24 | 2 | 2\n",
    "1 | 1 | 12 | 24 | 2 | 2\n",
    "1 | 2 | 18 | 24 | 2 | 2\n",
    "... | ... | ... | ... | ... | ...\n",
    "\n",
    "<br>\n",
    "\n",
    "> **_NOTE_**\n",
    "> \n",
    "> It is important that the location of every atom is specified at every time step even though no operation is performed on an atom.\n",
    "\n"
   ]
  },
  {
   "cell_type": "code",
   "execution_count": 1,
   "metadata": {},
   "outputs": [],
   "source": [
    "from re import match, findall  # use of regex for parsing input\n",
    "from copy import deepcopy  # make a deep copy dicts, ..."
   ]
  },
  {
   "cell_type": "markdown",
   "metadata": {},
   "source": [
    "The following snippet creates the data that specifies the grid of SLM tweazers where atoms can be placed. It is based on the description in [1, p. 24].\n",
    "\n",
    "1. D. Bluvstein et al., ‘Logical quantum processor based on reconfigurable atom arrays’, Nature, Dec. 2023, doi: [10.1038/s41586-023-06927-3](https://doi.org/10.1038/s41586-023-06927-3)."
   ]
  },
  {
   "cell_type": "code",
   "execution_count": 2,
   "metadata": {},
   "outputs": [],
   "source": [
    "with open(\"sites.csv\", \"w\") as file:\n",
    "    file.write(\"xpos;ypos;zone;size\\n\")\n",
    "    for y in range(20):\n",
    "        for x in range(20):\n",
    "            if y < 4: # entangling zone\n",
    "                # sites are shifted horizontally by a minor offset\n",
    "                # such that neighboring atoms are within interaction radius\n",
    "                if x % 2 == 0: # smal shift to the right\n",
    "                    file.write(f\"{x*6+2};{y*6};entangling;1\\n\")\n",
    "                else: # small shift to the left\n",
    "                    file.write(f\"{x*6-2};{y*6};entangling;1\\n\")\n",
    "            elif y < 16: # storage zone\n",
    "                file.write(f\"{x*6};{y*6+20};storage;1\\n\")\n",
    "            else: # readout zone\n",
    "                file.write(f\"{x*6};{y*6+40};readout;1\\n\")"
   ]
  },
  {
   "cell_type": "code",
   "execution_count": 3,
   "metadata": {},
   "outputs": [],
   "source": [
    "class ParseError(Exception):\n",
    "    '''\n",
    "    Custom Exception that is raised when a parsing error occurs,\n",
    "    e.g. due to an syntax error.\n",
    "    '''\n",
    "    def __init__(self, msg):\n",
    "        super().__init__(msg)"
   ]
  },
  {
   "cell_type": "code",
   "execution_count": 4,
   "metadata": {},
   "outputs": [],
   "source": [
    "def get_coords(line):\n",
    "    '''\n",
    "    This function takes a string of space separated natural numbers.\n",
    "    There must be even many of those numbers.\n",
    "    It returns a list of tuples, representing x- and y-coordinates.\n",
    "\n",
    "        Parameters:\n",
    "            line (str): string of space separated integers\n",
    "\n",
    "        Returns:\n",
    "            a list of tuples of ints\n",
    "    '''\n",
    "    return [tuple(map(int, findall(\"\\d+\", p))) for p in findall(r\"\\d+ \\d+\", line)]"
   ]
  },
  {
   "cell_type": "markdown",
   "metadata": {},
   "source": [
    "The following cell reads the circuit description from 'circuit.txt' and produces the CSV file described above."
   ]
  },
  {
   "cell_type": "code",
   "execution_count": 5,
   "metadata": {},
   "outputs": [],
   "source": [
    "init = True     # true iff no other keyword except init occured yet\n",
    "pos2atoms = {}  # a mapping from position to atom id, i.e. it is a 2D dictionary\n",
    "atoms2pos = []  # a list that maps atom ids to positions (tuuples of ints)\n",
    "atoms_n = 0     # number of atoms, used to determine the id of an atom\n",
    "\n",
    "with open(\"circuit.txt\", \"r\") as src: # open the output file\n",
    "    with open(\"data.csv\", \"w\") as csv: # open the input file\n",
    "        csv.write(\"time_frame;atom;xpos;ypos;gate;size\\n\") # write header\n",
    "        lineno = 0 # linenumber in the input file, correponds to timesteps (comments are ignored)\n",
    "        while True:\n",
    "            line = src.readline().rstrip()  # readline and remove trailing whitespace characters\n",
    "            if line == \"\": # end of input reach, jump out of loop\n",
    "                break\n",
    "            elif match(r\"^#.*$\", line): # comments are ignored\n",
    "                continue\n",
    "            elif match(r\"^init( \\d+ \\d+)+$\", line): # init\n",
    "                if not init:\n",
    "                    raise ParseError(f\"The keyword init occured after one out of ry, rz, cz, ccz, move\")\n",
    "                for x, y in get_coords(line):\n",
    "                    if x not in pos2atoms: pos2atoms[x] = {}\n",
    "                    pos2atoms[x][y] = atoms_n\n",
    "                    atoms2pos.append((x, y))\n",
    "                    csv.write(f\"{lineno};{pos2atoms[x][y]};{x};{y};1;1\\n\")\n",
    "                    atoms_n += 1\n",
    "            else:\n",
    "                init = False\n",
    "                affected = set()\n",
    "                try:\n",
    "                    if match(r\"^ry\\(.+\\)( \\d+ \\d+)+$\", line): # ry (color: 2, size: 2)\n",
    "                        for x, y in get_coords(line):\n",
    "                            affected.add(pos2atoms[x][y])\n",
    "                            csv.write(f\"{lineno};{pos2atoms[x][y]};{x};{y};2;2\\n\")\n",
    "                    elif match(r\"^rz\\(.+\\)( \\d+ \\d+)+$\", line): # rz (color: 3, size: 2)\n",
    "                        for x, y in get_coords(line):\n",
    "                            affected.add(pos2atoms[x][y])\n",
    "                            csv.write(f\"{lineno};{pos2atoms[x][y]};{x};{y};3;2\\n\")\n",
    "                    elif match(r\"^cz( \\d+ \\d+)+$\", line): # cz (color: 4, size: 3)\n",
    "                        for x, y in get_coords(line):\n",
    "                            affected.add(pos2atoms[x][y])\n",
    "                            csv.write(f\"{lineno};{pos2atoms[x][y]};{x};{y};4;3\\n\")\n",
    "                    elif match(r\"^move( \\d+ \\d+ \\d+ \\d+)+$\", line): # move\n",
    "                        coords = [tuple(map(int, findall(\"\\d+\", p))) for p in findall(r\"\\d+ \\d+ \\d+ \\d+\", line)]\n",
    "                        for x_old, y_old, x_new, y_new in coords:\n",
    "                            affected.add(pos2atoms[x_old][y_old])\n",
    "                            csv.write(f\"{lineno};{pos2atoms[x_old][y_old]};{x_new};{y_new};1;1\\n\")\n",
    "                        # update the both data-structures that store the locations of the atoms\n",
    "                        pos2atoms_tmp = deepcopy(pos2atoms)\n",
    "                        for x_old, y_old, x_new, y_new in coords:\n",
    "                            # delete the old olcation\n",
    "                            del pos2atoms[x_old][y_old]\n",
    "                            # take the id from the deep-copy and store in new location\n",
    "                            if x_new not in pos2atoms: pos2atoms[x_new] = {}\n",
    "                            pos2atoms[x_new][y_new] = pos2atoms_tmp[x_old][y_old]\n",
    "                            # update postion of atom\n",
    "                            atoms2pos[pos2atoms_tmp[x_old][y_old]] = (x_new, y_new)\n",
    "                        del pos2atoms_tmp\n",
    "                    else:\n",
    "                        raise ParseError(f\"There is a syntax error in: {line}\")\n",
    "                    # write out all atoms with the last location that have not been affected by an operation above\n",
    "                    for i in set(range(atoms_n)).difference(affected):\n",
    "                        x, y = atoms2pos[i]\n",
    "                        csv.write(f\"{lineno};{i};{x};{y};1;1\\n\")\n",
    "                except KeyError as e:\n",
    "                    raise ParseError(f\"The key {e} was not found in line {lineno}: {line}\")\n",
    "            lineno += 1\n"
   ]
  },
  {
   "cell_type": "markdown",
   "metadata": {},
   "source": [
    "## Build Visualization\n",
    "\n",
    "The above generated CSV file is taken and turned into a visulaization showing the movements and gate applications.\n",
    "\n",
    "### Input\n",
    "\n",
    "See the description of the output [above](#output).\n",
    "\n",
    "### Output\n",
    "\n",
    "A graphic showing the possible atom sites (SLM) in the background and the actual atoms including there movements. This figure can be exported in various formats using the functionality of plotly."
   ]
  },
  {
   "cell_type": "code",
   "execution_count": 6,
   "metadata": {},
   "outputs": [],
   "source": [
    "import plotly.express as px\n",
    "import plotly.graph_objects as go\n",
    "import pandas as pd"
   ]
  },
  {
   "cell_type": "code",
   "execution_count": 7,
   "metadata": {},
   "outputs": [],
   "source": [
    "# Read in the two csv files generated above\n",
    "df_atoms = pd.read_csv(\"data.csv\", sep=\";\")\n",
    "df_atoms.sort_values(by=['time_frame','atom'], inplace=True)\n",
    "df_sites = pd.read_csv(\"sites.csv\", sep=\";\")"
   ]
  },
  {
   "cell_type": "code",
   "execution_count": 8,
   "metadata": {},
   "outputs": [],
   "source": [
    "# we use the library plotly.express to define the graphcics\n",
    "# Firat, we define a graphics that shows the atoms as dots and animates there movement\n",
    "atoms = px.scatter(df_atoms,\n",
    "        height=800,\n",
    "        width=750,\n",
    "        x=\"xpos\",\n",
    "        y=\"ypos\",\n",
    "        animation_frame=\"time_frame\",\n",
    "        animation_group=\"atom\",\n",
    "        size=\"size\",\n",
    "        color=\"gate\",\n",
    "        hover_name=\"atom\",\n",
    "        size_max=10,\n",
    "        range_x=[-6,120],\n",
    "        range_y=[160,-6],\n",
    "        range_color=[1,4],\n",
    "        template=\"plotly_white\")\n",
    "atoms.layout.updatemenus[0].buttons[0].args[1][\"frame\"][\"duration\"] = 1000 # slow down animation\n",
    "atoms.update(layout_coloraxis_showscale=False); # hide colorscale\n",
    "# Second, we define a second graphic that will be used as the background showing the atom sites\n",
    "sites = px.scatter(df_sites,\n",
    "        x = \"xpos\",\n",
    "        y = \"ypos\",\n",
    "        size = \"size\",\n",
    "        color = \"zone\",\n",
    "        color_discrete_sequence = [\"#bbf\", \"#bbb\", \"#fbb\"],\n",
    "        size_max = 5,\n",
    "        range_x = [-6,120],\n",
    "        range_y = [160,-6],\n",
    "        template=\"plotly_white\")"
   ]
  },
  {
   "cell_type": "code",
   "execution_count": 9,
   "metadata": {},
   "outputs": [
    {
     "data": {
      "application/vnd.plotly.v1+json": {
       "config": {
        "plotlyServerURL": "https://plot.ly"
       },
       "data": [
        {
         "hovertemplate": "zone=entangling<br>xpos=%{x}<br>ypos=%{y}<br>size=%{marker.size}<extra></extra>",
         "legendgroup": "entangling",
         "marker": {
          "color": "#bbf",
          "size": [
           1,
           1,
           1,
           1,
           1,
           1,
           1,
           1,
           1,
           1,
           1,
           1,
           1,
           1,
           1,
           1,
           1,
           1,
           1,
           1,
           1,
           1,
           1,
           1,
           1,
           1,
           1,
           1,
           1,
           1,
           1,
           1,
           1,
           1,
           1,
           1,
           1,
           1,
           1,
           1,
           1,
           1,
           1,
           1,
           1,
           1,
           1,
           1,
           1,
           1,
           1,
           1,
           1,
           1,
           1,
           1,
           1,
           1,
           1,
           1,
           1,
           1,
           1,
           1,
           1,
           1,
           1,
           1,
           1,
           1,
           1,
           1,
           1,
           1,
           1,
           1,
           1,
           1,
           1,
           1
          ],
          "sizemode": "area",
          "sizeref": 0.04,
          "symbol": "circle"
         },
         "mode": "markers",
         "name": "entangling",
         "orientation": "v",
         "showlegend": true,
         "type": "scatter",
         "x": [
          2,
          4,
          14,
          16,
          26,
          28,
          38,
          40,
          50,
          52,
          62,
          64,
          74,
          76,
          86,
          88,
          98,
          100,
          110,
          112,
          2,
          4,
          14,
          16,
          26,
          28,
          38,
          40,
          50,
          52,
          62,
          64,
          74,
          76,
          86,
          88,
          98,
          100,
          110,
          112,
          2,
          4,
          14,
          16,
          26,
          28,
          38,
          40,
          50,
          52,
          62,
          64,
          74,
          76,
          86,
          88,
          98,
          100,
          110,
          112,
          2,
          4,
          14,
          16,
          26,
          28,
          38,
          40,
          50,
          52,
          62,
          64,
          74,
          76,
          86,
          88,
          98,
          100,
          110,
          112
         ],
         "xaxis": "x",
         "y": [
          0,
          0,
          0,
          0,
          0,
          0,
          0,
          0,
          0,
          0,
          0,
          0,
          0,
          0,
          0,
          0,
          0,
          0,
          0,
          0,
          6,
          6,
          6,
          6,
          6,
          6,
          6,
          6,
          6,
          6,
          6,
          6,
          6,
          6,
          6,
          6,
          6,
          6,
          6,
          6,
          12,
          12,
          12,
          12,
          12,
          12,
          12,
          12,
          12,
          12,
          12,
          12,
          12,
          12,
          12,
          12,
          12,
          12,
          12,
          12,
          18,
          18,
          18,
          18,
          18,
          18,
          18,
          18,
          18,
          18,
          18,
          18,
          18,
          18,
          18,
          18,
          18,
          18,
          18,
          18
         ],
         "yaxis": "y"
        },
        {
         "hovertemplate": "zone=storage<br>xpos=%{x}<br>ypos=%{y}<br>size=%{marker.size}<extra></extra>",
         "legendgroup": "storage",
         "marker": {
          "color": "#bbb",
          "size": [
           1,
           1,
           1,
           1,
           1,
           1,
           1,
           1,
           1,
           1,
           1,
           1,
           1,
           1,
           1,
           1,
           1,
           1,
           1,
           1,
           1,
           1,
           1,
           1,
           1,
           1,
           1,
           1,
           1,
           1,
           1,
           1,
           1,
           1,
           1,
           1,
           1,
           1,
           1,
           1,
           1,
           1,
           1,
           1,
           1,
           1,
           1,
           1,
           1,
           1,
           1,
           1,
           1,
           1,
           1,
           1,
           1,
           1,
           1,
           1,
           1,
           1,
           1,
           1,
           1,
           1,
           1,
           1,
           1,
           1,
           1,
           1,
           1,
           1,
           1,
           1,
           1,
           1,
           1,
           1,
           1,
           1,
           1,
           1,
           1,
           1,
           1,
           1,
           1,
           1,
           1,
           1,
           1,
           1,
           1,
           1,
           1,
           1,
           1,
           1,
           1,
           1,
           1,
           1,
           1,
           1,
           1,
           1,
           1,
           1,
           1,
           1,
           1,
           1,
           1,
           1,
           1,
           1,
           1,
           1,
           1,
           1,
           1,
           1,
           1,
           1,
           1,
           1,
           1,
           1,
           1,
           1,
           1,
           1,
           1,
           1,
           1,
           1,
           1,
           1,
           1,
           1,
           1,
           1,
           1,
           1,
           1,
           1,
           1,
           1,
           1,
           1,
           1,
           1,
           1,
           1,
           1,
           1,
           1,
           1,
           1,
           1,
           1,
           1,
           1,
           1,
           1,
           1,
           1,
           1,
           1,
           1,
           1,
           1,
           1,
           1,
           1,
           1,
           1,
           1,
           1,
           1,
           1,
           1,
           1,
           1,
           1,
           1,
           1,
           1,
           1,
           1,
           1,
           1,
           1,
           1,
           1,
           1,
           1,
           1,
           1,
           1,
           1,
           1,
           1,
           1,
           1,
           1,
           1,
           1,
           1,
           1,
           1,
           1,
           1,
           1,
           1,
           1,
           1,
           1,
           1,
           1,
           1,
           1,
           1,
           1,
           1,
           1,
           1,
           1,
           1,
           1,
           1,
           1,
           1,
           1,
           1,
           1,
           1,
           1
          ],
          "sizemode": "area",
          "sizeref": 0.04,
          "symbol": "circle"
         },
         "mode": "markers",
         "name": "storage",
         "orientation": "v",
         "showlegend": true,
         "type": "scatter",
         "x": [
          0,
          6,
          12,
          18,
          24,
          30,
          36,
          42,
          48,
          54,
          60,
          66,
          72,
          78,
          84,
          90,
          96,
          102,
          108,
          114,
          0,
          6,
          12,
          18,
          24,
          30,
          36,
          42,
          48,
          54,
          60,
          66,
          72,
          78,
          84,
          90,
          96,
          102,
          108,
          114,
          0,
          6,
          12,
          18,
          24,
          30,
          36,
          42,
          48,
          54,
          60,
          66,
          72,
          78,
          84,
          90,
          96,
          102,
          108,
          114,
          0,
          6,
          12,
          18,
          24,
          30,
          36,
          42,
          48,
          54,
          60,
          66,
          72,
          78,
          84,
          90,
          96,
          102,
          108,
          114,
          0,
          6,
          12,
          18,
          24,
          30,
          36,
          42,
          48,
          54,
          60,
          66,
          72,
          78,
          84,
          90,
          96,
          102,
          108,
          114,
          0,
          6,
          12,
          18,
          24,
          30,
          36,
          42,
          48,
          54,
          60,
          66,
          72,
          78,
          84,
          90,
          96,
          102,
          108,
          114,
          0,
          6,
          12,
          18,
          24,
          30,
          36,
          42,
          48,
          54,
          60,
          66,
          72,
          78,
          84,
          90,
          96,
          102,
          108,
          114,
          0,
          6,
          12,
          18,
          24,
          30,
          36,
          42,
          48,
          54,
          60,
          66,
          72,
          78,
          84,
          90,
          96,
          102,
          108,
          114,
          0,
          6,
          12,
          18,
          24,
          30,
          36,
          42,
          48,
          54,
          60,
          66,
          72,
          78,
          84,
          90,
          96,
          102,
          108,
          114,
          0,
          6,
          12,
          18,
          24,
          30,
          36,
          42,
          48,
          54,
          60,
          66,
          72,
          78,
          84,
          90,
          96,
          102,
          108,
          114,
          0,
          6,
          12,
          18,
          24,
          30,
          36,
          42,
          48,
          54,
          60,
          66,
          72,
          78,
          84,
          90,
          96,
          102,
          108,
          114,
          0,
          6,
          12,
          18,
          24,
          30,
          36,
          42,
          48,
          54,
          60,
          66,
          72,
          78,
          84,
          90,
          96,
          102,
          108,
          114
         ],
         "xaxis": "x",
         "y": [
          44,
          44,
          44,
          44,
          44,
          44,
          44,
          44,
          44,
          44,
          44,
          44,
          44,
          44,
          44,
          44,
          44,
          44,
          44,
          44,
          50,
          50,
          50,
          50,
          50,
          50,
          50,
          50,
          50,
          50,
          50,
          50,
          50,
          50,
          50,
          50,
          50,
          50,
          50,
          50,
          56,
          56,
          56,
          56,
          56,
          56,
          56,
          56,
          56,
          56,
          56,
          56,
          56,
          56,
          56,
          56,
          56,
          56,
          56,
          56,
          62,
          62,
          62,
          62,
          62,
          62,
          62,
          62,
          62,
          62,
          62,
          62,
          62,
          62,
          62,
          62,
          62,
          62,
          62,
          62,
          68,
          68,
          68,
          68,
          68,
          68,
          68,
          68,
          68,
          68,
          68,
          68,
          68,
          68,
          68,
          68,
          68,
          68,
          68,
          68,
          74,
          74,
          74,
          74,
          74,
          74,
          74,
          74,
          74,
          74,
          74,
          74,
          74,
          74,
          74,
          74,
          74,
          74,
          74,
          74,
          80,
          80,
          80,
          80,
          80,
          80,
          80,
          80,
          80,
          80,
          80,
          80,
          80,
          80,
          80,
          80,
          80,
          80,
          80,
          80,
          86,
          86,
          86,
          86,
          86,
          86,
          86,
          86,
          86,
          86,
          86,
          86,
          86,
          86,
          86,
          86,
          86,
          86,
          86,
          86,
          92,
          92,
          92,
          92,
          92,
          92,
          92,
          92,
          92,
          92,
          92,
          92,
          92,
          92,
          92,
          92,
          92,
          92,
          92,
          92,
          98,
          98,
          98,
          98,
          98,
          98,
          98,
          98,
          98,
          98,
          98,
          98,
          98,
          98,
          98,
          98,
          98,
          98,
          98,
          98,
          104,
          104,
          104,
          104,
          104,
          104,
          104,
          104,
          104,
          104,
          104,
          104,
          104,
          104,
          104,
          104,
          104,
          104,
          104,
          104,
          110,
          110,
          110,
          110,
          110,
          110,
          110,
          110,
          110,
          110,
          110,
          110,
          110,
          110,
          110,
          110,
          110,
          110,
          110,
          110
         ],
         "yaxis": "y"
        },
        {
         "hovertemplate": "zone=readout<br>xpos=%{x}<br>ypos=%{y}<br>size=%{marker.size}<extra></extra>",
         "legendgroup": "readout",
         "marker": {
          "color": "#fbb",
          "size": [
           1,
           1,
           1,
           1,
           1,
           1,
           1,
           1,
           1,
           1,
           1,
           1,
           1,
           1,
           1,
           1,
           1,
           1,
           1,
           1,
           1,
           1,
           1,
           1,
           1,
           1,
           1,
           1,
           1,
           1,
           1,
           1,
           1,
           1,
           1,
           1,
           1,
           1,
           1,
           1,
           1,
           1,
           1,
           1,
           1,
           1,
           1,
           1,
           1,
           1,
           1,
           1,
           1,
           1,
           1,
           1,
           1,
           1,
           1,
           1,
           1,
           1,
           1,
           1,
           1,
           1,
           1,
           1,
           1,
           1,
           1,
           1,
           1,
           1,
           1,
           1,
           1,
           1,
           1,
           1
          ],
          "sizemode": "area",
          "sizeref": 0.04,
          "symbol": "circle"
         },
         "mode": "markers",
         "name": "readout",
         "orientation": "v",
         "showlegend": true,
         "type": "scatter",
         "x": [
          0,
          6,
          12,
          18,
          24,
          30,
          36,
          42,
          48,
          54,
          60,
          66,
          72,
          78,
          84,
          90,
          96,
          102,
          108,
          114,
          0,
          6,
          12,
          18,
          24,
          30,
          36,
          42,
          48,
          54,
          60,
          66,
          72,
          78,
          84,
          90,
          96,
          102,
          108,
          114,
          0,
          6,
          12,
          18,
          24,
          30,
          36,
          42,
          48,
          54,
          60,
          66,
          72,
          78,
          84,
          90,
          96,
          102,
          108,
          114,
          0,
          6,
          12,
          18,
          24,
          30,
          36,
          42,
          48,
          54,
          60,
          66,
          72,
          78,
          84,
          90,
          96,
          102,
          108,
          114
         ],
         "xaxis": "x",
         "y": [
          136,
          136,
          136,
          136,
          136,
          136,
          136,
          136,
          136,
          136,
          136,
          136,
          136,
          136,
          136,
          136,
          136,
          136,
          136,
          136,
          142,
          142,
          142,
          142,
          142,
          142,
          142,
          142,
          142,
          142,
          142,
          142,
          142,
          142,
          142,
          142,
          142,
          142,
          142,
          142,
          148,
          148,
          148,
          148,
          148,
          148,
          148,
          148,
          148,
          148,
          148,
          148,
          148,
          148,
          148,
          148,
          148,
          148,
          148,
          148,
          154,
          154,
          154,
          154,
          154,
          154,
          154,
          154,
          154,
          154,
          154,
          154,
          154,
          154,
          154,
          154,
          154,
          154,
          154,
          154
         ],
         "yaxis": "y"
        },
        {
         "hovertemplate": "<b>%{hovertext}</b><br><br>time_frame=0<br>xpos=%{x}<br>ypos=%{y}<br>size=%{marker.size}<br>gate=%{marker.color}<extra></extra>",
         "hovertext": [
          0,
          1,
          2,
          3,
          4,
          5,
          6,
          7,
          8,
          9,
          10,
          11
         ],
         "ids": [
          0,
          1,
          2,
          3,
          4,
          5,
          6,
          7,
          8,
          9,
          10,
          11
         ],
         "legendgroup": "",
         "marker": {
          "color": [
           1,
           1,
           1,
           1,
           1,
           1,
           1,
           1,
           1,
           1,
           1,
           1
          ],
          "coloraxis": "coloraxis",
          "size": [
           1,
           1,
           1,
           1,
           1,
           1,
           1,
           1,
           1,
           1,
           1,
           1
          ],
          "sizemode": "area",
          "sizeref": 0.03,
          "symbol": "circle"
         },
         "mode": "markers",
         "name": "",
         "orientation": "v",
         "showlegend": false,
         "type": "scatter",
         "x": [
          6,
          12,
          18,
          30,
          48,
          78,
          6,
          84,
          90,
          54,
          24,
          90
         ],
         "xaxis": "x",
         "y": [
          44,
          44,
          44,
          44,
          44,
          44,
          50,
          50,
          56,
          68,
          86,
          98
         ],
         "yaxis": "y"
        }
       ],
       "frames": [
        {
         "data": [
          {
           "type": "scatter"
          },
          {
           "type": "scatter"
          },
          {
           "type": "scatter"
          },
          {
           "hovertemplate": "<b>%{hovertext}</b><br><br>time_frame=0<br>xpos=%{x}<br>ypos=%{y}<br>size=%{marker.size}<br>gate=%{marker.color}<extra></extra>",
           "hovertext": [
            0,
            1,
            2,
            3,
            4,
            5,
            6,
            7,
            8,
            9,
            10,
            11
           ],
           "ids": [
            0,
            1,
            2,
            3,
            4,
            5,
            6,
            7,
            8,
            9,
            10,
            11
           ],
           "legendgroup": "",
           "marker": {
            "color": [
             1,
             1,
             1,
             1,
             1,
             1,
             1,
             1,
             1,
             1,
             1,
             1
            ],
            "coloraxis": "coloraxis",
            "size": [
             1,
             1,
             1,
             1,
             1,
             1,
             1,
             1,
             1,
             1,
             1,
             1
            ],
            "sizemode": "area",
            "sizeref": 0.03,
            "symbol": "circle"
           },
           "mode": "markers",
           "name": "",
           "orientation": "v",
           "showlegend": false,
           "type": "scatter",
           "x": [
            6,
            12,
            18,
            30,
            48,
            78,
            6,
            84,
            90,
            54,
            24,
            90
           ],
           "xaxis": "x",
           "y": [
            44,
            44,
            44,
            44,
            44,
            44,
            50,
            50,
            56,
            68,
            86,
            98
           ],
           "yaxis": "y"
          }
         ],
         "name": "0"
        },
        {
         "data": [
          {
           "type": "scatter"
          },
          {
           "type": "scatter"
          },
          {
           "type": "scatter"
          },
          {
           "hovertemplate": "<b>%{hovertext}</b><br><br>time_frame=1<br>xpos=%{x}<br>ypos=%{y}<br>size=%{marker.size}<br>gate=%{marker.color}<extra></extra>",
           "hovertext": [
            0,
            1,
            2,
            3,
            4,
            5,
            6,
            7,
            8,
            9,
            10,
            11
           ],
           "ids": [
            0,
            1,
            2,
            3,
            4,
            5,
            6,
            7,
            8,
            9,
            10,
            11
           ],
           "legendgroup": "",
           "marker": {
            "color": [
             2,
             2,
             2,
             2,
             2,
             2,
             2,
             2,
             2,
             2,
             2,
             2
            ],
            "coloraxis": "coloraxis",
            "size": [
             2,
             2,
             2,
             2,
             2,
             2,
             2,
             2,
             2,
             2,
             2,
             2
            ],
            "sizemode": "area",
            "sizeref": 0.03,
            "symbol": "circle"
           },
           "mode": "markers",
           "name": "",
           "orientation": "v",
           "showlegend": false,
           "type": "scatter",
           "x": [
            6,
            12,
            18,
            30,
            48,
            78,
            6,
            84,
            90,
            54,
            24,
            90
           ],
           "xaxis": "x",
           "y": [
            44,
            44,
            44,
            44,
            44,
            44,
            50,
            50,
            56,
            68,
            86,
            98
           ],
           "yaxis": "y"
          }
         ],
         "name": "1"
        },
        {
         "data": [
          {
           "type": "scatter"
          },
          {
           "type": "scatter"
          },
          {
           "type": "scatter"
          },
          {
           "hovertemplate": "<b>%{hovertext}</b><br><br>time_frame=2<br>xpos=%{x}<br>ypos=%{y}<br>size=%{marker.size}<br>gate=%{marker.color}<extra></extra>",
           "hovertext": [
            0,
            1,
            2,
            3,
            4,
            5,
            6,
            7,
            8,
            9,
            10,
            11
           ],
           "ids": [
            0,
            1,
            2,
            3,
            4,
            5,
            6,
            7,
            8,
            9,
            10,
            11
           ],
           "legendgroup": "",
           "marker": {
            "color": [
             1,
             1,
             1,
             3,
             1,
             3,
             1,
             1,
             1,
             1,
             1,
             1
            ],
            "coloraxis": "coloraxis",
            "size": [
             1,
             1,
             1,
             2,
             1,
             2,
             1,
             1,
             1,
             1,
             1,
             1
            ],
            "sizemode": "area",
            "sizeref": 0.03,
            "symbol": "circle"
           },
           "mode": "markers",
           "name": "",
           "orientation": "v",
           "showlegend": false,
           "type": "scatter",
           "x": [
            6,
            12,
            18,
            30,
            48,
            78,
            6,
            84,
            90,
            54,
            24,
            90
           ],
           "xaxis": "x",
           "y": [
            44,
            44,
            44,
            44,
            44,
            44,
            50,
            50,
            56,
            68,
            86,
            98
           ],
           "yaxis": "y"
          }
         ],
         "name": "2"
        },
        {
         "data": [
          {
           "type": "scatter"
          },
          {
           "type": "scatter"
          },
          {
           "type": "scatter"
          },
          {
           "hovertemplate": "<b>%{hovertext}</b><br><br>time_frame=3<br>xpos=%{x}<br>ypos=%{y}<br>size=%{marker.size}<br>gate=%{marker.color}<extra></extra>",
           "hovertext": [
            0,
            1,
            2,
            3,
            4,
            5,
            6,
            7,
            8,
            9,
            10,
            11
           ],
           "ids": [
            0,
            1,
            2,
            3,
            4,
            5,
            6,
            7,
            8,
            9,
            10,
            11
           ],
           "legendgroup": "",
           "marker": {
            "color": [
             1,
             1,
             1,
             1,
             1,
             1,
             1,
             3,
             1,
             1,
             1,
             1
            ],
            "coloraxis": "coloraxis",
            "size": [
             1,
             1,
             1,
             1,
             1,
             1,
             1,
             2,
             1,
             1,
             1,
             1
            ],
            "sizemode": "area",
            "sizeref": 0.03,
            "symbol": "circle"
           },
           "mode": "markers",
           "name": "",
           "orientation": "v",
           "showlegend": false,
           "type": "scatter",
           "x": [
            6,
            12,
            18,
            30,
            48,
            78,
            6,
            84,
            90,
            54,
            24,
            90
           ],
           "xaxis": "x",
           "y": [
            44,
            44,
            44,
            44,
            44,
            44,
            50,
            50,
            56,
            68,
            86,
            98
           ],
           "yaxis": "y"
          }
         ],
         "name": "3"
        },
        {
         "data": [
          {
           "type": "scatter"
          },
          {
           "type": "scatter"
          },
          {
           "type": "scatter"
          },
          {
           "hovertemplate": "<b>%{hovertext}</b><br><br>time_frame=4<br>xpos=%{x}<br>ypos=%{y}<br>size=%{marker.size}<br>gate=%{marker.color}<extra></extra>",
           "hovertext": [
            0,
            1,
            2,
            3,
            4,
            5,
            6,
            7,
            8,
            9,
            10,
            11
           ],
           "ids": [
            0,
            1,
            2,
            3,
            4,
            5,
            6,
            7,
            8,
            9,
            10,
            11
           ],
           "legendgroup": "",
           "marker": {
            "color": [
             2,
             2,
             2,
             2,
             2,
             2,
             2,
             2,
             2,
             2,
             2,
             2
            ],
            "coloraxis": "coloraxis",
            "size": [
             2,
             2,
             2,
             2,
             2,
             2,
             2,
             2,
             2,
             2,
             2,
             2
            ],
            "sizemode": "area",
            "sizeref": 0.03,
            "symbol": "circle"
           },
           "mode": "markers",
           "name": "",
           "orientation": "v",
           "showlegend": false,
           "type": "scatter",
           "x": [
            6,
            12,
            18,
            30,
            48,
            78,
            6,
            84,
            90,
            54,
            24,
            90
           ],
           "xaxis": "x",
           "y": [
            44,
            44,
            44,
            44,
            44,
            44,
            50,
            50,
            56,
            68,
            86,
            98
           ],
           "yaxis": "y"
          }
         ],
         "name": "4"
        },
        {
         "data": [
          {
           "type": "scatter"
          },
          {
           "type": "scatter"
          },
          {
           "type": "scatter"
          },
          {
           "hovertemplate": "<b>%{hovertext}</b><br><br>time_frame=5<br>xpos=%{x}<br>ypos=%{y}<br>size=%{marker.size}<br>gate=%{marker.color}<extra></extra>",
           "hovertext": [
            0,
            1,
            2,
            3,
            4,
            5,
            6,
            7,
            8,
            9,
            10,
            11
           ],
           "ids": [
            0,
            1,
            2,
            3,
            4,
            5,
            6,
            7,
            8,
            9,
            10,
            11
           ],
           "legendgroup": "",
           "marker": {
            "color": [
             1,
             1,
             1,
             1,
             1,
             1,
             1,
             1,
             1,
             1,
             1,
             1
            ],
            "coloraxis": "coloraxis",
            "size": [
             1,
             1,
             1,
             1,
             1,
             1,
             1,
             1,
             1,
             1,
             1,
             1
            ],
            "sizemode": "area",
            "sizeref": 0.03,
            "symbol": "circle"
           },
           "mode": "markers",
           "name": "",
           "orientation": "v",
           "showlegend": false,
           "type": "scatter",
           "x": [
            7,
            13,
            18,
            30,
            48,
            78,
            6,
            84,
            90,
            54,
            24,
            90
           ],
           "xaxis": "x",
           "y": [
            43,
            43,
            44,
            44,
            44,
            44,
            50,
            50,
            56,
            68,
            86,
            98
           ],
           "yaxis": "y"
          }
         ],
         "name": "5"
        },
        {
         "data": [
          {
           "type": "scatter"
          },
          {
           "type": "scatter"
          },
          {
           "type": "scatter"
          },
          {
           "hovertemplate": "<b>%{hovertext}</b><br><br>time_frame=6<br>xpos=%{x}<br>ypos=%{y}<br>size=%{marker.size}<br>gate=%{marker.color}<extra></extra>",
           "hovertext": [
            0,
            1,
            2,
            3,
            4,
            5,
            6,
            7,
            8,
            9,
            10,
            11
           ],
           "ids": [
            0,
            1,
            2,
            3,
            4,
            5,
            6,
            7,
            8,
            9,
            10,
            11
           ],
           "legendgroup": "",
           "marker": {
            "color": [
             1,
             1,
             1,
             1,
             1,
             1,
             1,
             1,
             1,
             1,
             1,
             1
            ],
            "coloraxis": "coloraxis",
            "size": [
             1,
             1,
             1,
             1,
             1,
             1,
             1,
             1,
             1,
             1,
             1,
             1
            ],
            "sizemode": "area",
            "sizeref": 0.03,
            "symbol": "circle"
           },
           "mode": "markers",
           "name": "",
           "orientation": "v",
           "showlegend": false,
           "type": "scatter",
           "x": [
            25,
            27,
            18,
            30,
            48,
            78,
            6,
            84,
            90,
            54,
            24,
            90
           ],
           "xaxis": "x",
           "y": [
            1,
            1,
            44,
            44,
            44,
            44,
            50,
            50,
            56,
            68,
            86,
            98
           ],
           "yaxis": "y"
          }
         ],
         "name": "6"
        },
        {
         "data": [
          {
           "type": "scatter"
          },
          {
           "type": "scatter"
          },
          {
           "type": "scatter"
          },
          {
           "hovertemplate": "<b>%{hovertext}</b><br><br>time_frame=7<br>xpos=%{x}<br>ypos=%{y}<br>size=%{marker.size}<br>gate=%{marker.color}<extra></extra>",
           "hovertext": [
            0,
            1,
            2,
            3,
            4,
            5,
            6,
            7,
            8,
            9,
            10,
            11
           ],
           "ids": [
            0,
            1,
            2,
            3,
            4,
            5,
            6,
            7,
            8,
            9,
            10,
            11
           ],
           "legendgroup": "",
           "marker": {
            "color": [
             1,
             1,
             1,
             1,
             1,
             1,
             1,
             1,
             1,
             1,
             1,
             1
            ],
            "coloraxis": "coloraxis",
            "size": [
             1,
             1,
             1,
             1,
             1,
             1,
             1,
             1,
             1,
             1,
             1,
             1
            ],
            "sizemode": "area",
            "sizeref": 0.03,
            "symbol": "circle"
           },
           "mode": "markers",
           "name": "",
           "orientation": "v",
           "showlegend": false,
           "type": "scatter",
           "x": [
            26,
            28,
            18,
            30,
            48,
            78,
            6,
            84,
            90,
            54,
            24,
            90
           ],
           "xaxis": "x",
           "y": [
            0,
            0,
            44,
            44,
            44,
            44,
            50,
            50,
            56,
            68,
            86,
            98
           ],
           "yaxis": "y"
          }
         ],
         "name": "7"
        },
        {
         "data": [
          {
           "type": "scatter"
          },
          {
           "type": "scatter"
          },
          {
           "type": "scatter"
          },
          {
           "hovertemplate": "<b>%{hovertext}</b><br><br>time_frame=8<br>xpos=%{x}<br>ypos=%{y}<br>size=%{marker.size}<br>gate=%{marker.color}<extra></extra>",
           "hovertext": [
            0,
            1,
            2,
            3,
            4,
            5,
            6,
            7,
            8,
            9,
            10,
            11
           ],
           "ids": [
            0,
            1,
            2,
            3,
            4,
            5,
            6,
            7,
            8,
            9,
            10,
            11
           ],
           "legendgroup": "",
           "marker": {
            "color": [
             4,
             4,
             1,
             1,
             1,
             1,
             1,
             1,
             1,
             1,
             1,
             1
            ],
            "coloraxis": "coloraxis",
            "size": [
             3,
             3,
             1,
             1,
             1,
             1,
             1,
             1,
             1,
             1,
             1,
             1
            ],
            "sizemode": "area",
            "sizeref": 0.03,
            "symbol": "circle"
           },
           "mode": "markers",
           "name": "",
           "orientation": "v",
           "showlegend": false,
           "type": "scatter",
           "x": [
            26,
            28,
            18,
            30,
            48,
            78,
            6,
            84,
            90,
            54,
            24,
            90
           ],
           "xaxis": "x",
           "y": [
            0,
            0,
            44,
            44,
            44,
            44,
            50,
            50,
            56,
            68,
            86,
            98
           ],
           "yaxis": "y"
          }
         ],
         "name": "8"
        },
        {
         "data": [
          {
           "type": "scatter"
          },
          {
           "type": "scatter"
          },
          {
           "type": "scatter"
          },
          {
           "hovertemplate": "<b>%{hovertext}</b><br><br>time_frame=9<br>xpos=%{x}<br>ypos=%{y}<br>size=%{marker.size}<br>gate=%{marker.color}<extra></extra>",
           "hovertext": [
            0,
            1,
            2,
            3,
            4,
            5,
            6,
            7,
            8,
            9,
            10,
            11
           ],
           "ids": [
            0,
            1,
            2,
            3,
            4,
            5,
            6,
            7,
            8,
            9,
            10,
            11
           ],
           "legendgroup": "",
           "marker": {
            "color": [
             1,
             1,
             1,
             1,
             1,
             1,
             1,
             1,
             1,
             1,
             1,
             1
            ],
            "coloraxis": "coloraxis",
            "size": [
             1,
             1,
             1,
             1,
             1,
             1,
             1,
             1,
             1,
             1,
             1,
             1
            ],
            "sizemode": "area",
            "sizeref": 0.03,
            "symbol": "circle"
           },
           "mode": "markers",
           "name": "",
           "orientation": "v",
           "showlegend": false,
           "type": "scatter",
           "x": [
            25,
            27,
            18,
            30,
            48,
            78,
            6,
            84,
            90,
            54,
            24,
            90
           ],
           "xaxis": "x",
           "y": [
            1,
            1,
            44,
            44,
            44,
            44,
            50,
            50,
            56,
            68,
            86,
            98
           ],
           "yaxis": "y"
          }
         ],
         "name": "9"
        },
        {
         "data": [
          {
           "type": "scatter"
          },
          {
           "type": "scatter"
          },
          {
           "type": "scatter"
          },
          {
           "hovertemplate": "<b>%{hovertext}</b><br><br>time_frame=10<br>xpos=%{x}<br>ypos=%{y}<br>size=%{marker.size}<br>gate=%{marker.color}<extra></extra>",
           "hovertext": [
            0,
            1,
            2,
            3,
            4,
            5,
            6,
            7,
            8,
            9,
            10,
            11
           ],
           "ids": [
            0,
            1,
            2,
            3,
            4,
            5,
            6,
            7,
            8,
            9,
            10,
            11
           ],
           "legendgroup": "",
           "marker": {
            "color": [
             1,
             1,
             1,
             1,
             1,
             1,
             1,
             1,
             1,
             1,
             1,
             1
            ],
            "coloraxis": "coloraxis",
            "size": [
             1,
             1,
             1,
             1,
             1,
             1,
             1,
             1,
             1,
             1,
             1,
             1
            ],
            "sizemode": "area",
            "sizeref": 0.03,
            "symbol": "circle"
           },
           "mode": "markers",
           "name": "",
           "orientation": "v",
           "showlegend": false,
           "type": "scatter",
           "x": [
            7,
            13,
            18,
            30,
            48,
            78,
            6,
            84,
            90,
            54,
            24,
            90
           ],
           "xaxis": "x",
           "y": [
            43,
            43,
            44,
            44,
            44,
            44,
            50,
            50,
            56,
            68,
            86,
            98
           ],
           "yaxis": "y"
          }
         ],
         "name": "10"
        },
        {
         "data": [
          {
           "type": "scatter"
          },
          {
           "type": "scatter"
          },
          {
           "type": "scatter"
          },
          {
           "hovertemplate": "<b>%{hovertext}</b><br><br>time_frame=11<br>xpos=%{x}<br>ypos=%{y}<br>size=%{marker.size}<br>gate=%{marker.color}<extra></extra>",
           "hovertext": [
            0,
            1,
            2,
            3,
            4,
            5,
            6,
            7,
            8,
            9,
            10,
            11
           ],
           "ids": [
            0,
            1,
            2,
            3,
            4,
            5,
            6,
            7,
            8,
            9,
            10,
            11
           ],
           "legendgroup": "",
           "marker": {
            "color": [
             1,
             1,
             1,
             1,
             1,
             1,
             1,
             1,
             1,
             1,
             1,
             1
            ],
            "coloraxis": "coloraxis",
            "size": [
             1,
             1,
             1,
             1,
             1,
             1,
             1,
             1,
             1,
             1,
             1,
             1
            ],
            "sizemode": "area",
            "sizeref": 0.03,
            "symbol": "circle"
           },
           "mode": "markers",
           "name": "",
           "orientation": "v",
           "showlegend": false,
           "type": "scatter",
           "x": [
            6,
            12,
            18,
            30,
            48,
            78,
            6,
            84,
            90,
            54,
            24,
            90
           ],
           "xaxis": "x",
           "y": [
            44,
            44,
            44,
            44,
            44,
            44,
            50,
            50,
            56,
            68,
            86,
            98
           ],
           "yaxis": "y"
          }
         ],
         "name": "11"
        }
       ],
       "layout": {
        "coloraxis": {
         "cmax": 4,
         "cmin": 1,
         "colorbar": {
          "title": {
           "text": "gate"
          }
         },
         "colorscale": [
          [
           0,
           "#0d0887"
          ],
          [
           0.1111111111111111,
           "#46039f"
          ],
          [
           0.2222222222222222,
           "#7201a8"
          ],
          [
           0.3333333333333333,
           "#9c179e"
          ],
          [
           0.4444444444444444,
           "#bd3786"
          ],
          [
           0.5555555555555556,
           "#d8576b"
          ],
          [
           0.6666666666666666,
           "#ed7953"
          ],
          [
           0.7777777777777778,
           "#fb9f3a"
          ],
          [
           0.8888888888888888,
           "#fdca26"
          ],
          [
           1,
           "#f0f921"
          ]
         ],
         "showscale": false
        },
        "height": 800,
        "legend": {
         "itemsizing": "constant",
         "tracegroupgap": 0
        },
        "margin": {
         "t": 60
        },
        "sliders": [
         {
          "active": 0,
          "currentvalue": {
           "prefix": "time_frame="
          },
          "len": 0.9,
          "pad": {
           "b": 10,
           "t": 60
          },
          "steps": [
           {
            "args": [
             [
              "0"
             ],
             {
              "frame": {
               "duration": 0,
               "redraw": false
              },
              "fromcurrent": true,
              "mode": "immediate",
              "transition": {
               "duration": 0,
               "easing": "linear"
              }
             }
            ],
            "label": "0",
            "method": "animate"
           },
           {
            "args": [
             [
              "1"
             ],
             {
              "frame": {
               "duration": 0,
               "redraw": false
              },
              "fromcurrent": true,
              "mode": "immediate",
              "transition": {
               "duration": 0,
               "easing": "linear"
              }
             }
            ],
            "label": "1",
            "method": "animate"
           },
           {
            "args": [
             [
              "2"
             ],
             {
              "frame": {
               "duration": 0,
               "redraw": false
              },
              "fromcurrent": true,
              "mode": "immediate",
              "transition": {
               "duration": 0,
               "easing": "linear"
              }
             }
            ],
            "label": "2",
            "method": "animate"
           },
           {
            "args": [
             [
              "3"
             ],
             {
              "frame": {
               "duration": 0,
               "redraw": false
              },
              "fromcurrent": true,
              "mode": "immediate",
              "transition": {
               "duration": 0,
               "easing": "linear"
              }
             }
            ],
            "label": "3",
            "method": "animate"
           },
           {
            "args": [
             [
              "4"
             ],
             {
              "frame": {
               "duration": 0,
               "redraw": false
              },
              "fromcurrent": true,
              "mode": "immediate",
              "transition": {
               "duration": 0,
               "easing": "linear"
              }
             }
            ],
            "label": "4",
            "method": "animate"
           },
           {
            "args": [
             [
              "5"
             ],
             {
              "frame": {
               "duration": 0,
               "redraw": false
              },
              "fromcurrent": true,
              "mode": "immediate",
              "transition": {
               "duration": 0,
               "easing": "linear"
              }
             }
            ],
            "label": "5",
            "method": "animate"
           },
           {
            "args": [
             [
              "6"
             ],
             {
              "frame": {
               "duration": 0,
               "redraw": false
              },
              "fromcurrent": true,
              "mode": "immediate",
              "transition": {
               "duration": 0,
               "easing": "linear"
              }
             }
            ],
            "label": "6",
            "method": "animate"
           },
           {
            "args": [
             [
              "7"
             ],
             {
              "frame": {
               "duration": 0,
               "redraw": false
              },
              "fromcurrent": true,
              "mode": "immediate",
              "transition": {
               "duration": 0,
               "easing": "linear"
              }
             }
            ],
            "label": "7",
            "method": "animate"
           },
           {
            "args": [
             [
              "8"
             ],
             {
              "frame": {
               "duration": 0,
               "redraw": false
              },
              "fromcurrent": true,
              "mode": "immediate",
              "transition": {
               "duration": 0,
               "easing": "linear"
              }
             }
            ],
            "label": "8",
            "method": "animate"
           },
           {
            "args": [
             [
              "9"
             ],
             {
              "frame": {
               "duration": 0,
               "redraw": false
              },
              "fromcurrent": true,
              "mode": "immediate",
              "transition": {
               "duration": 0,
               "easing": "linear"
              }
             }
            ],
            "label": "9",
            "method": "animate"
           },
           {
            "args": [
             [
              "10"
             ],
             {
              "frame": {
               "duration": 0,
               "redraw": false
              },
              "fromcurrent": true,
              "mode": "immediate",
              "transition": {
               "duration": 0,
               "easing": "linear"
              }
             }
            ],
            "label": "10",
            "method": "animate"
           },
           {
            "args": [
             [
              "11"
             ],
             {
              "frame": {
               "duration": 0,
               "redraw": false
              },
              "fromcurrent": true,
              "mode": "immediate",
              "transition": {
               "duration": 0,
               "easing": "linear"
              }
             }
            ],
            "label": "11",
            "method": "animate"
           }
          ],
          "x": 0.1,
          "xanchor": "left",
          "y": 0,
          "yanchor": "top"
         }
        ],
        "template": {
         "data": {
          "bar": [
           {
            "error_x": {
             "color": "#2a3f5f"
            },
            "error_y": {
             "color": "#2a3f5f"
            },
            "marker": {
             "line": {
              "color": "white",
              "width": 0.5
             },
             "pattern": {
              "fillmode": "overlay",
              "size": 10,
              "solidity": 0.2
             }
            },
            "type": "bar"
           }
          ],
          "barpolar": [
           {
            "marker": {
             "line": {
              "color": "white",
              "width": 0.5
             },
             "pattern": {
              "fillmode": "overlay",
              "size": 10,
              "solidity": 0.2
             }
            },
            "type": "barpolar"
           }
          ],
          "carpet": [
           {
            "aaxis": {
             "endlinecolor": "#2a3f5f",
             "gridcolor": "#C8D4E3",
             "linecolor": "#C8D4E3",
             "minorgridcolor": "#C8D4E3",
             "startlinecolor": "#2a3f5f"
            },
            "baxis": {
             "endlinecolor": "#2a3f5f",
             "gridcolor": "#C8D4E3",
             "linecolor": "#C8D4E3",
             "minorgridcolor": "#C8D4E3",
             "startlinecolor": "#2a3f5f"
            },
            "type": "carpet"
           }
          ],
          "choropleth": [
           {
            "colorbar": {
             "outlinewidth": 0,
             "ticks": ""
            },
            "type": "choropleth"
           }
          ],
          "contour": [
           {
            "colorbar": {
             "outlinewidth": 0,
             "ticks": ""
            },
            "colorscale": [
             [
              0,
              "#0d0887"
             ],
             [
              0.1111111111111111,
              "#46039f"
             ],
             [
              0.2222222222222222,
              "#7201a8"
             ],
             [
              0.3333333333333333,
              "#9c179e"
             ],
             [
              0.4444444444444444,
              "#bd3786"
             ],
             [
              0.5555555555555556,
              "#d8576b"
             ],
             [
              0.6666666666666666,
              "#ed7953"
             ],
             [
              0.7777777777777778,
              "#fb9f3a"
             ],
             [
              0.8888888888888888,
              "#fdca26"
             ],
             [
              1,
              "#f0f921"
             ]
            ],
            "type": "contour"
           }
          ],
          "contourcarpet": [
           {
            "colorbar": {
             "outlinewidth": 0,
             "ticks": ""
            },
            "type": "contourcarpet"
           }
          ],
          "heatmap": [
           {
            "colorbar": {
             "outlinewidth": 0,
             "ticks": ""
            },
            "colorscale": [
             [
              0,
              "#0d0887"
             ],
             [
              0.1111111111111111,
              "#46039f"
             ],
             [
              0.2222222222222222,
              "#7201a8"
             ],
             [
              0.3333333333333333,
              "#9c179e"
             ],
             [
              0.4444444444444444,
              "#bd3786"
             ],
             [
              0.5555555555555556,
              "#d8576b"
             ],
             [
              0.6666666666666666,
              "#ed7953"
             ],
             [
              0.7777777777777778,
              "#fb9f3a"
             ],
             [
              0.8888888888888888,
              "#fdca26"
             ],
             [
              1,
              "#f0f921"
             ]
            ],
            "type": "heatmap"
           }
          ],
          "heatmapgl": [
           {
            "colorbar": {
             "outlinewidth": 0,
             "ticks": ""
            },
            "colorscale": [
             [
              0,
              "#0d0887"
             ],
             [
              0.1111111111111111,
              "#46039f"
             ],
             [
              0.2222222222222222,
              "#7201a8"
             ],
             [
              0.3333333333333333,
              "#9c179e"
             ],
             [
              0.4444444444444444,
              "#bd3786"
             ],
             [
              0.5555555555555556,
              "#d8576b"
             ],
             [
              0.6666666666666666,
              "#ed7953"
             ],
             [
              0.7777777777777778,
              "#fb9f3a"
             ],
             [
              0.8888888888888888,
              "#fdca26"
             ],
             [
              1,
              "#f0f921"
             ]
            ],
            "type": "heatmapgl"
           }
          ],
          "histogram": [
           {
            "marker": {
             "pattern": {
              "fillmode": "overlay",
              "size": 10,
              "solidity": 0.2
             }
            },
            "type": "histogram"
           }
          ],
          "histogram2d": [
           {
            "colorbar": {
             "outlinewidth": 0,
             "ticks": ""
            },
            "colorscale": [
             [
              0,
              "#0d0887"
             ],
             [
              0.1111111111111111,
              "#46039f"
             ],
             [
              0.2222222222222222,
              "#7201a8"
             ],
             [
              0.3333333333333333,
              "#9c179e"
             ],
             [
              0.4444444444444444,
              "#bd3786"
             ],
             [
              0.5555555555555556,
              "#d8576b"
             ],
             [
              0.6666666666666666,
              "#ed7953"
             ],
             [
              0.7777777777777778,
              "#fb9f3a"
             ],
             [
              0.8888888888888888,
              "#fdca26"
             ],
             [
              1,
              "#f0f921"
             ]
            ],
            "type": "histogram2d"
           }
          ],
          "histogram2dcontour": [
           {
            "colorbar": {
             "outlinewidth": 0,
             "ticks": ""
            },
            "colorscale": [
             [
              0,
              "#0d0887"
             ],
             [
              0.1111111111111111,
              "#46039f"
             ],
             [
              0.2222222222222222,
              "#7201a8"
             ],
             [
              0.3333333333333333,
              "#9c179e"
             ],
             [
              0.4444444444444444,
              "#bd3786"
             ],
             [
              0.5555555555555556,
              "#d8576b"
             ],
             [
              0.6666666666666666,
              "#ed7953"
             ],
             [
              0.7777777777777778,
              "#fb9f3a"
             ],
             [
              0.8888888888888888,
              "#fdca26"
             ],
             [
              1,
              "#f0f921"
             ]
            ],
            "type": "histogram2dcontour"
           }
          ],
          "mesh3d": [
           {
            "colorbar": {
             "outlinewidth": 0,
             "ticks": ""
            },
            "type": "mesh3d"
           }
          ],
          "parcoords": [
           {
            "line": {
             "colorbar": {
              "outlinewidth": 0,
              "ticks": ""
             }
            },
            "type": "parcoords"
           }
          ],
          "pie": [
           {
            "automargin": true,
            "type": "pie"
           }
          ],
          "scatter": [
           {
            "fillpattern": {
             "fillmode": "overlay",
             "size": 10,
             "solidity": 0.2
            },
            "type": "scatter"
           }
          ],
          "scatter3d": [
           {
            "line": {
             "colorbar": {
              "outlinewidth": 0,
              "ticks": ""
             }
            },
            "marker": {
             "colorbar": {
              "outlinewidth": 0,
              "ticks": ""
             }
            },
            "type": "scatter3d"
           }
          ],
          "scattercarpet": [
           {
            "marker": {
             "colorbar": {
              "outlinewidth": 0,
              "ticks": ""
             }
            },
            "type": "scattercarpet"
           }
          ],
          "scattergeo": [
           {
            "marker": {
             "colorbar": {
              "outlinewidth": 0,
              "ticks": ""
             }
            },
            "type": "scattergeo"
           }
          ],
          "scattergl": [
           {
            "marker": {
             "colorbar": {
              "outlinewidth": 0,
              "ticks": ""
             }
            },
            "type": "scattergl"
           }
          ],
          "scattermapbox": [
           {
            "marker": {
             "colorbar": {
              "outlinewidth": 0,
              "ticks": ""
             }
            },
            "type": "scattermapbox"
           }
          ],
          "scatterpolar": [
           {
            "marker": {
             "colorbar": {
              "outlinewidth": 0,
              "ticks": ""
             }
            },
            "type": "scatterpolar"
           }
          ],
          "scatterpolargl": [
           {
            "marker": {
             "colorbar": {
              "outlinewidth": 0,
              "ticks": ""
             }
            },
            "type": "scatterpolargl"
           }
          ],
          "scatterternary": [
           {
            "marker": {
             "colorbar": {
              "outlinewidth": 0,
              "ticks": ""
             }
            },
            "type": "scatterternary"
           }
          ],
          "surface": [
           {
            "colorbar": {
             "outlinewidth": 0,
             "ticks": ""
            },
            "colorscale": [
             [
              0,
              "#0d0887"
             ],
             [
              0.1111111111111111,
              "#46039f"
             ],
             [
              0.2222222222222222,
              "#7201a8"
             ],
             [
              0.3333333333333333,
              "#9c179e"
             ],
             [
              0.4444444444444444,
              "#bd3786"
             ],
             [
              0.5555555555555556,
              "#d8576b"
             ],
             [
              0.6666666666666666,
              "#ed7953"
             ],
             [
              0.7777777777777778,
              "#fb9f3a"
             ],
             [
              0.8888888888888888,
              "#fdca26"
             ],
             [
              1,
              "#f0f921"
             ]
            ],
            "type": "surface"
           }
          ],
          "table": [
           {
            "cells": {
             "fill": {
              "color": "#EBF0F8"
             },
             "line": {
              "color": "white"
             }
            },
            "header": {
             "fill": {
              "color": "#C8D4E3"
             },
             "line": {
              "color": "white"
             }
            },
            "type": "table"
           }
          ]
         },
         "layout": {
          "annotationdefaults": {
           "arrowcolor": "#2a3f5f",
           "arrowhead": 0,
           "arrowwidth": 1
          },
          "autotypenumbers": "strict",
          "coloraxis": {
           "colorbar": {
            "outlinewidth": 0,
            "ticks": ""
           }
          },
          "colorscale": {
           "diverging": [
            [
             0,
             "#8e0152"
            ],
            [
             0.1,
             "#c51b7d"
            ],
            [
             0.2,
             "#de77ae"
            ],
            [
             0.3,
             "#f1b6da"
            ],
            [
             0.4,
             "#fde0ef"
            ],
            [
             0.5,
             "#f7f7f7"
            ],
            [
             0.6,
             "#e6f5d0"
            ],
            [
             0.7,
             "#b8e186"
            ],
            [
             0.8,
             "#7fbc41"
            ],
            [
             0.9,
             "#4d9221"
            ],
            [
             1,
             "#276419"
            ]
           ],
           "sequential": [
            [
             0,
             "#0d0887"
            ],
            [
             0.1111111111111111,
             "#46039f"
            ],
            [
             0.2222222222222222,
             "#7201a8"
            ],
            [
             0.3333333333333333,
             "#9c179e"
            ],
            [
             0.4444444444444444,
             "#bd3786"
            ],
            [
             0.5555555555555556,
             "#d8576b"
            ],
            [
             0.6666666666666666,
             "#ed7953"
            ],
            [
             0.7777777777777778,
             "#fb9f3a"
            ],
            [
             0.8888888888888888,
             "#fdca26"
            ],
            [
             1,
             "#f0f921"
            ]
           ],
           "sequentialminus": [
            [
             0,
             "#0d0887"
            ],
            [
             0.1111111111111111,
             "#46039f"
            ],
            [
             0.2222222222222222,
             "#7201a8"
            ],
            [
             0.3333333333333333,
             "#9c179e"
            ],
            [
             0.4444444444444444,
             "#bd3786"
            ],
            [
             0.5555555555555556,
             "#d8576b"
            ],
            [
             0.6666666666666666,
             "#ed7953"
            ],
            [
             0.7777777777777778,
             "#fb9f3a"
            ],
            [
             0.8888888888888888,
             "#fdca26"
            ],
            [
             1,
             "#f0f921"
            ]
           ]
          },
          "colorway": [
           "#636efa",
           "#EF553B",
           "#00cc96",
           "#ab63fa",
           "#FFA15A",
           "#19d3f3",
           "#FF6692",
           "#B6E880",
           "#FF97FF",
           "#FECB52"
          ],
          "font": {
           "color": "#2a3f5f"
          },
          "geo": {
           "bgcolor": "white",
           "lakecolor": "white",
           "landcolor": "white",
           "showlakes": true,
           "showland": true,
           "subunitcolor": "#C8D4E3"
          },
          "hoverlabel": {
           "align": "left"
          },
          "hovermode": "closest",
          "mapbox": {
           "style": "light"
          },
          "paper_bgcolor": "white",
          "plot_bgcolor": "white",
          "polar": {
           "angularaxis": {
            "gridcolor": "#EBF0F8",
            "linecolor": "#EBF0F8",
            "ticks": ""
           },
           "bgcolor": "white",
           "radialaxis": {
            "gridcolor": "#EBF0F8",
            "linecolor": "#EBF0F8",
            "ticks": ""
           }
          },
          "scene": {
           "xaxis": {
            "backgroundcolor": "white",
            "gridcolor": "#DFE8F3",
            "gridwidth": 2,
            "linecolor": "#EBF0F8",
            "showbackground": true,
            "ticks": "",
            "zerolinecolor": "#EBF0F8"
           },
           "yaxis": {
            "backgroundcolor": "white",
            "gridcolor": "#DFE8F3",
            "gridwidth": 2,
            "linecolor": "#EBF0F8",
            "showbackground": true,
            "ticks": "",
            "zerolinecolor": "#EBF0F8"
           },
           "zaxis": {
            "backgroundcolor": "white",
            "gridcolor": "#DFE8F3",
            "gridwidth": 2,
            "linecolor": "#EBF0F8",
            "showbackground": true,
            "ticks": "",
            "zerolinecolor": "#EBF0F8"
           }
          },
          "shapedefaults": {
           "line": {
            "color": "#2a3f5f"
           }
          },
          "ternary": {
           "aaxis": {
            "gridcolor": "#DFE8F3",
            "linecolor": "#A2B1C6",
            "ticks": ""
           },
           "baxis": {
            "gridcolor": "#DFE8F3",
            "linecolor": "#A2B1C6",
            "ticks": ""
           },
           "bgcolor": "white",
           "caxis": {
            "gridcolor": "#DFE8F3",
            "linecolor": "#A2B1C6",
            "ticks": ""
           }
          },
          "title": {
           "x": 0.05
          },
          "xaxis": {
           "automargin": true,
           "gridcolor": "#EBF0F8",
           "linecolor": "#EBF0F8",
           "ticks": "",
           "title": {
            "standoff": 15
           },
           "zerolinecolor": "#EBF0F8",
           "zerolinewidth": 2
          },
          "yaxis": {
           "automargin": true,
           "gridcolor": "#EBF0F8",
           "linecolor": "#EBF0F8",
           "ticks": "",
           "title": {
            "standoff": 15
           },
           "zerolinecolor": "#EBF0F8",
           "zerolinewidth": 2
          }
         }
        },
        "updatemenus": [
         {
          "buttons": [
           {
            "args": [
             null,
             {
              "frame": {
               "duration": 1000,
               "redraw": false
              },
              "fromcurrent": true,
              "mode": "immediate",
              "transition": {
               "duration": 500,
               "easing": "linear"
              }
             }
            ],
            "label": "&#9654;",
            "method": "animate"
           },
           {
            "args": [
             [
              null
             ],
             {
              "frame": {
               "duration": 0,
               "redraw": false
              },
              "fromcurrent": true,
              "mode": "immediate",
              "transition": {
               "duration": 0,
               "easing": "linear"
              }
             }
            ],
            "label": "&#9724;",
            "method": "animate"
           }
          ],
          "direction": "left",
          "pad": {
           "r": 10,
           "t": 70
          },
          "showactive": false,
          "type": "buttons",
          "x": 0.1,
          "xanchor": "right",
          "y": 0,
          "yanchor": "top"
         }
        ],
        "width": 750,
        "xaxis": {
         "anchor": "y",
         "domain": [
          0,
          1
         ],
         "range": [
          -6,
          120
         ],
         "title": {
          "text": "xpos"
         }
        },
        "yaxis": {
         "anchor": "x",
         "domain": [
          0,
          1
         ],
         "range": [
          160,
          -6
         ],
         "title": {
          "text": "ypos"
         }
        }
       }
      }
     },
     "metadata": {},
     "output_type": "display_data"
    }
   ],
   "source": [
    "# Here, we combine the two figures above into one figure\n",
    "# [SPOILER]: The following is very hacky, be warned!\n",
    "# For an explanation: in principle two figures can be combined by invoking the method `add_traces` on one graphic and\n",
    "# passing the content of the `.data` attribute of the other figure. However, in this case this results in either having\n",
    "# the grid in the foreground or loosing the animation capability. Hence, we convert both figures to python dictionaries\n",
    "# (to bypass integrity checks of the python objects).\n",
    "#   1. We add the layers (one for every zone) showing the grid BEFORE the animation layer (`add_traces` would append them\n",
    "#      to the end), and\n",
    "#   2. Add three empty layers to each frame such that the atom layer is always the fourth one.\n",
    "fig_dict = atoms.to_dict()\n",
    "fig_dict[\"data\"] = sites.to_dict()[\"data\"] + fig_dict[\"data\"]\n",
    "for frame in fig_dict[\"frames\"]:\n",
    "    frame[\"data\"] = [{},{},{},frame[\"data\"][0]]\n",
    "# Read-in the dictionary and display figure\n",
    "fig = go.Figure(fig_dict)\n",
    "fig.show()"
   ]
  },
  {
   "cell_type": "code",
   "execution_count": 14,
   "metadata": {},
   "outputs": [],
   "source": [
    "with open(\"animation.html\", \"w\") as file:\n",
    "    file.writelines(fig.to_html(auto_play=False))"
   ]
  },
  {
   "cell_type": "code",
   "execution_count": null,
   "metadata": {},
   "outputs": [],
   "source": []
  }
 ],
 "metadata": {
  "kernelspec": {
   "display_name": "plotly",
   "language": "python",
   "name": "python3"
  },
  "language_info": {
   "codemirror_mode": {
    "name": "ipython",
    "version": 3
   },
   "file_extension": ".py",
   "mimetype": "text/x-python",
   "name": "python",
   "nbconvert_exporter": "python",
   "pygments_lexer": "ipython3",
   "version": "3.10.10"
  }
 },
 "nbformat": 4,
 "nbformat_minor": 2
}
